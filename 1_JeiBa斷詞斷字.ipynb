{
  "cells": [
    {
      "cell_type": "markdown",
      "metadata": {
        "id": "view-in-github",
        "colab_type": "text"
      },
      "source": [
        "<a href=\"https://colab.research.google.com/github/cshiuan/jieba/blob/main/1_JeiBa%E6%96%B7%E8%A9%9E%E6%96%B7%E5%AD%97.ipynb\" target=\"_parent\"><img src=\"https://colab.research.google.com/assets/colab-badge.svg\" alt=\"Open In Colab\"/></a>"
      ]
    },
    {
      "cell_type": "markdown",
      "metadata": {
        "id": "TWuKukRXbKxt"
      },
      "source": [
        "# (Jieba版) 電腦學中文的第一步：斷詞"
      ]
    },
    {
      "cell_type": "markdown",
      "source": [
        "# New Section"
      ],
      "metadata": {
        "id": "E7a5MLNPbfNi"
      }
    },
    {
      "cell_type": "code",
      "execution_count": null,
      "metadata": {
        "colab": {
          "base_uri": "https://localhost:8080/"
        },
        "id": "pGWx1tCpqW2D",
        "outputId": "72c0d2b5-fd64-48a2-bf2e-2a10bb9921a2"
      },
      "outputs": [
        {
          "output_type": "stream",
          "name": "stdout",
          "text": [
            "['Thomas', 'Jefferson', 'began', 'building', 'Monticello', 'at', 'the', 'age', 'of', '26.']\n"
          ]
        }
      ],
      "source": [
        "sentence = \"Thomas Jefferson began building Monticello at the age of 26.\"\n",
        "# 用split函式分割字串\n",
        "print(sentence.split())"
      ]
    },
    {
      "cell_type": "code",
      "execution_count": null,
      "metadata": {
        "colab": {
          "base_uri": "https://localhost:8080/"
        },
        "id": "-OALBKcGwY2-",
        "outputId": "4f1c7485-a14e-4ac1-8149-b8d5a46c8281"
      },
      "outputs": [
        {
          "output_type": "stream",
          "name": "stdout",
          "text": [
            "['Thomas', 'Jefferson', 'began', 'building', 'Monticello', 'at', 'the', 'age', 'of', '26.']\n"
          ]
        }
      ],
      "source": [
        "# 用str類別內的函式分割字串\n",
        "print(str.split(sentence))"
      ]
    },
    {
      "cell_type": "code",
      "execution_count": null,
      "metadata": {
        "colab": {
          "base_uri": "https://localhost:8080/"
        },
        "id": "1Fg9HCqZxPcq",
        "outputId": "d9721655-2078-4529-8943-2ad72ce379be"
      },
      "outputs": [
        {
          "output_type": "stream",
          "name": "stdout",
          "text": [
            "['thomas', 'jefferson', 'began', 'building', 'monticello', 'at', 'the', 'age', 'of', '26']\n"
          ]
        }
      ],
      "source": [
        "import tensorflow as tf\n",
        "print(tf.keras.preprocessing.text.text_to_word_sequence(input_text=sentence, \n",
        "                              filters='!\"#$%&()*+,-./:;<=>?@[\\\\]^_`{|}~\\t\\n', \n",
        "                              lower=True, \n",
        "                              split=\" \"))"
      ]
    },
    {
      "cell_type": "code",
      "execution_count": null,
      "metadata": {
        "id": "gzwnqjzzf3rR"
      },
      "outputs": [],
      "source": [
        "print(tf.keras.preprocessing.text.text_to_word_sequence(input_text=sentence, \n",
        "                              filters='!\"#$%&()*+,-./:;<=>?@[\\\\]^_`{|}~\\t\\n', \n",
        "                              lower=True, \n",
        "                              split=\",\"))"
      ]
    },
    {
      "cell_type": "code",
      "execution_count": null,
      "metadata": {
        "colab": {
          "base_uri": "https://localhost:8080/"
        },
        "id": "edGDaBrCbLX6",
        "outputId": "d0ffd10a-08b5-43b5-dff1-9df6ca518257"
      },
      "outputs": [
        {
          "output_type": "stream",
          "name": "stdout",
          "text": [
            "['湯瑪斯傑佛遜在', '26', '歲打造了蒙蒂沙羅。']\n"
          ]
        }
      ],
      "source": [
        "cht_sentence = \" 湯瑪斯傑佛遜在 26 歲打造了蒙蒂沙羅。\"\n",
        "print(tf.keras.preprocessing.text.text_to_word_sequence(input_text=cht_sentence, \n",
        "                              filters='!\"#$%&()*+,-./:;<=>?@[\\\\]^_`{|}~\\t\\n', \n",
        "                              lower=True, \n",
        "                              split=\" \"))"
      ]
    },
    {
      "cell_type": "code",
      "execution_count": null,
      "metadata": {
        "colab": {
          "base_uri": "https://localhost:8080/"
        },
        "collapsed": true,
        "id": "GhmNnyMRh5dV",
        "outputId": "75c304e1-4905-44ac-cc0c-557e870d8eeb"
      },
      "outputs": [
        {
          "output_type": "stream",
          "name": "stdout",
          "text": [
            "Looking in indexes: https://pypi.org/simple, https://us-python.pkg.dev/colab-wheels/public/simple/\n",
            "Collecting https://github.com/cshiuan/jieba/archive/master.zip\n",
            "  Using cached https://github.com/cshiuan/jieba/archive/master.zip\n"
          ]
        }
      ],
      "source": [
        "# 安裝繁體中文版jieba\n",
        "!pip install https://github.com/cshiuan/jieba/archive/master.zip\n",
        "import jieba\n",
        "#因Colab中有自己的jieba版本，請自訂cache檔名，避免兩個cache互相蓋住對方\n",
        "jieba.dt.cache_file = '/content/new_words_dictionary.txt'"
      ]
    },
    {
      "cell_type": "code",
      "execution_count": null,
      "metadata": {
        "colab": {
          "base_uri": "https://localhost:8080/"
        },
        "id": "Nnx2RSi7blkP",
        "outputId": "d394c12b-8967-45cd-e890-8f7e5a955b51"
      },
      "outputs": [
        {
          "output_type": "stream",
          "name": "stdout",
          "text": [
            "1： 新冠肺炎 | 擴散 | 全球 | ， | 確診 | 病例 | 與 | 死亡數 | 不斷 | 攀升 | ， | 各國 | 紛紛 | 祭出 | 防疫 | 政策 | ， | 試圖 | 阻止 | 疫情 | 蔓延 | 。\n",
            "2： 新冠肺炎 | 肺炎 | 擴散 | 全球 |  |  | 確 | 診病 | 病例 | 與 | 死亡 | 死亡數 | 不斷 | 攀升 |  |  | 各國 | 紛紛 | 紛祭 | 祭出 | 防疫 | 政策 |  |  | 試圖 | 阻止 | 疫情 | 蔓延 |  | \n",
            "3： 肺炎 | 新冠肺炎 | 擴散 | 全球 | ， | 確診 | 病例 | 與 | 死亡 | 死亡數 | 不斷 | 攀升 | ， | 各國 | 紛紛 | 祭出 | 防疫 | 政策 | ， | 試圖 | 阻止 | 疫情 | 蔓延 | 。\n"
          ]
        }
      ],
      "source": [
        "sentense = \"新冠肺炎擴散全球，確診病例與死亡數不斷攀升，各國紛紛祭出防疫政策，試圖阻止疫情蔓延。\"\n",
        "seg_result = jieba.cut(sentense, cut_all=False)\n",
        "# 1:精確模式\n",
        "print(\"1：\", \" | \".join(seg_result), sep=' ')\n",
        "\n",
        "# 2:全模式\n",
        "seg_result = jieba.cut(sentense, cut_all=True)\n",
        "print(\"2：\", \" | \".join(seg_result), sep=' ')\n",
        "\n",
        "# 3:搜索模式\n",
        "seg_result = jieba.cut_for_search(sentense)\n",
        "print(\"3：\", \" | \".join(seg_result), sep=' ')"
      ]
    },
    {
      "cell_type": "code",
      "execution_count": null,
      "metadata": {
        "colab": {
          "base_uri": "https://localhost:8080/"
        },
        "id": "NWCOdajibsGS",
        "outputId": "9a816e88-06e9-4fed-fe1a-a078961d747f"
      },
      "outputs": [
        {
          "output_type": "stream",
          "name": "stdout",
          "text": [
            "1： 新冠肺炎 | 擴散 | 全球 | ， | 確診 | 病例 | 與 | 死亡數 | 不斷 | 攀升 | ， | 各國 | 紛紛 | 祭出 | 防疫 | 政策 | ， | 試圖 | 阻止 | 疫情 | 蔓延 | 。\n",
            "2： 新冠肺炎 | 肺炎 | 擴散 | 全球 |  |  | 確 | 診病 | 病例 | 與 | 死亡 | 死亡數 | 不斷 | 攀升 |  |  | 各國 | 紛紛 | 紛祭 | 祭出 | 防疫 | 政策 |  |  | 試圖 | 阻止 | 疫情 | 蔓延 |  | \n",
            "3： 肺炎 | 新冠肺炎 | 擴散 | 全球 | ， | 確診 | 病例 | 與 | 死亡 | 死亡數 | 不斷 | 攀升 | ， | 各國 | 紛紛 | 祭出 | 防疫 | 政策 | ， | 試圖 | 阻止 | 疫情 | 蔓延 | 。\n"
          ]
        }
      ],
      "source": [
        "jieba.add_word(\"新冠肺炎\")\n",
        "\n",
        "sentense2 = \"新冠肺炎擴散全球，確診病例與死亡數不斷攀升，各國紛紛祭出防疫政策，試圖阻止疫情蔓延。\"\n",
        "seg_result = jieba.cut(sentense2, cut_all=False)\n",
        "# 1:精確模式\n",
        "print(\"1：\", \" | \".join(seg_result), sep=' ')\n",
        "\n",
        "# 2:全模式\n",
        "seg_result = jieba.cut(sentense2, cut_all=True)\n",
        "print(\"2：\", \" | \".join(seg_result), sep=' ')\n",
        "\n",
        "# 3:搜索模式\n",
        "seg_result = jieba.cut_for_search(sentense2)\n",
        "print(\"3：\", \" | \".join(seg_result), sep=' ')"
      ]
    },
    {
      "cell_type": "code",
      "execution_count": null,
      "metadata": {
        "colab": {
          "base_uri": "https://localhost:8080/"
        },
        "id": "oHJVMSy0bv5S",
        "outputId": "4ff57801-cd00-4eae-b5a7-1c6c501df396"
      },
      "outputs": [
        {
          "output_type": "stream",
          "name": "stdout",
          "text": [
            "1： 新冠肺炎 | 擴散 | 全球 | ， | 確診 | 病例 | 與 | 死亡數 | 不斷 | 攀升 | ， | 各國 | 紛紛 | 祭出 | 防疫 | 政策 | ， | 試圖 | 阻止 | 疫情 | 蔓延 | 。\n"
          ]
        }
      ],
      "source": [
        "# 從 Colab 環境中載入字典檔案\n",
        "jieba.load_userdict(\"new_words_dictionary.txt\")\n",
        "sentense2 = \"新冠肺炎擴散全球，確診病例與死亡數不斷攀升，各國紛紛祭出防疫政策，試圖阻止疫情蔓延。\"\n",
        "seg_result = jieba.cut(sentense2, cut_all=False)\n",
        "print(\"1：\", \" | \".join(seg_result), sep=' ')"
      ]
    },
    {
      "cell_type": "code",
      "execution_count": null,
      "metadata": {
        "colab": {
          "base_uri": "https://localhost:8080/"
        },
        "id": "Wlo84HSUeSnw",
        "outputId": "f48aa828-0027-4028-eb22-1fdb106392ea"
      },
      "outputs": [
        {
          "output_type": "stream",
          "name": "stdout",
          "text": [
            " 關鍵字 :\n",
            "梅雨|発表|真夏|天気|美國\n"
          ]
        }
      ],
      "source": [
        "# 載入分析工具\n",
        "import jieba.analyse\n",
        "# 讀取檔案\n",
        "text_file = open('uspresident_election.txt','r',encoding='utf-8')\n",
        "text = text_file.read()\n",
        "# 取得關鍵字\n",
        "tags = jieba.analyse.extract_tags(text, topK=5)\n",
        "print (\" 關鍵字 :\")\n",
        "print (\"|\".join(tags))"
      ]
    },
    {
      "cell_type": "code",
      "execution_count": null,
      "metadata": {
        "colab": {
          "base_uri": "https://localhost:8080/",
          "height": 236
        },
        "id": "J60xa2j8eW3R",
        "outputId": "003d56c8-9321-480e-e778-501c1b1a320b"
      },
      "outputs": [
        {
          "output_type": "error",
          "ename": "FileNotFoundError",
          "evalue": "ignored",
          "traceback": [
            "\u001b[0;31m---------------------------------------------------------------------------\u001b[0m",
            "\u001b[0;31mFileNotFoundError\u001b[0m                         Traceback (most recent call last)",
            "\u001b[0;32m<ipython-input-35-5d990f8bbcb3>\u001b[0m in \u001b[0;36m<module>\u001b[0;34m()\u001b[0m\n\u001b[1;32m      4\u001b[0m \u001b[0;31m# Read the whole text.\u001b[0m\u001b[0;34m\u001b[0m\u001b[0;34m\u001b[0m\u001b[0;34m\u001b[0m\u001b[0m\n\u001b[1;32m      5\u001b[0m \u001b[0mtxtfile\u001b[0m \u001b[0;34m=\u001b[0m \u001b[0;34m\"c:/test-wordcloud/cnn.txt\"\u001b[0m \u001b[0;31m# 剛才下載存的文字檔\u001b[0m\u001b[0;34m\u001b[0m\u001b[0;34m\u001b[0m\u001b[0m\n\u001b[0;32m----> 6\u001b[0;31m \u001b[0mtext\u001b[0m \u001b[0;34m=\u001b[0m \u001b[0mopen\u001b[0m\u001b[0;34m(\u001b[0m\u001b[0mtxtfile\u001b[0m\u001b[0;34m,\u001b[0m\u001b[0;34m\"r\"\u001b[0m\u001b[0;34m,\u001b[0m\u001b[0mencoding\u001b[0m\u001b[0;34m=\u001b[0m\u001b[0;34m\"utf-8\"\u001b[0m\u001b[0;34m)\u001b[0m\u001b[0;34m.\u001b[0m\u001b[0mread\u001b[0m\u001b[0;34m(\u001b[0m\u001b[0;34m)\u001b[0m\u001b[0;34m\u001b[0m\u001b[0;34m\u001b[0m\u001b[0m\n\u001b[0m\u001b[1;32m      7\u001b[0m \u001b[0;34m\u001b[0m\u001b[0m\n\u001b[1;32m      8\u001b[0m \u001b[0;31m# Generate a word cloud image\u001b[0m\u001b[0;34m\u001b[0m\u001b[0;34m\u001b[0m\u001b[0;34m\u001b[0m\u001b[0m\n",
            "\u001b[0;31mFileNotFoundError\u001b[0m: [Errno 2] No such file or directory: 'c:/test-wordcloud/cnn.txt'"
          ]
        }
      ],
      "source": [
        "from wordcloud import WordCloud, STOPWORDS\n",
        "import matplotlib.pyplot as plt\n",
        "\n",
        "# Read the whole text.\n",
        "txtfile = \"c:/test-wordcloud/cnn.txt\" # 剛才下載存的文字檔\n",
        "text = open(txtfile,\"r\",encoding=\"utf-8\").read()\n",
        "\n",
        "# Generate a word cloud image\n",
        "wordcloud = WordCloud().generate(text)\n",
        "\n",
        "# 繪圖\n",
        "plt.figure()\n",
        "plt.imshow(wordcloud, interpolation=\"bilinear\")\n",
        "plt.axis(\"off\")\n",
        "plt.show()"
      ]
    },
    {
      "cell_type": "code",
      "execution_count": null,
      "metadata": {
        "id": "0MYto0Awbno4",
        "colab": {
          "base_uri": "https://localhost:8080/",
          "height": 236
        },
        "outputId": "568f3c53-dea5-43d9-fb16-71bd046f4c66"
      },
      "outputs": [
        {
          "output_type": "error",
          "ename": "FileNotFoundError",
          "evalue": "ignored",
          "traceback": [
            "\u001b[0;31m---------------------------------------------------------------------------\u001b[0m",
            "\u001b[0;31mFileNotFoundError\u001b[0m                         Traceback (most recent call last)",
            "\u001b[0;32m<ipython-input-41-5d990f8bbcb3>\u001b[0m in \u001b[0;36m<module>\u001b[0;34m()\u001b[0m\n\u001b[1;32m      4\u001b[0m \u001b[0;31m# Read the whole text.\u001b[0m\u001b[0;34m\u001b[0m\u001b[0;34m\u001b[0m\u001b[0;34m\u001b[0m\u001b[0m\n\u001b[1;32m      5\u001b[0m \u001b[0mtxtfile\u001b[0m \u001b[0;34m=\u001b[0m \u001b[0;34m\"c:/test-wordcloud/cnn.txt\"\u001b[0m \u001b[0;31m# 剛才下載存的文字檔\u001b[0m\u001b[0;34m\u001b[0m\u001b[0;34m\u001b[0m\u001b[0m\n\u001b[0;32m----> 6\u001b[0;31m \u001b[0mtext\u001b[0m \u001b[0;34m=\u001b[0m \u001b[0mopen\u001b[0m\u001b[0;34m(\u001b[0m\u001b[0mtxtfile\u001b[0m\u001b[0;34m,\u001b[0m\u001b[0;34m\"r\"\u001b[0m\u001b[0;34m,\u001b[0m\u001b[0mencoding\u001b[0m\u001b[0;34m=\u001b[0m\u001b[0;34m\"utf-8\"\u001b[0m\u001b[0;34m)\u001b[0m\u001b[0;34m.\u001b[0m\u001b[0mread\u001b[0m\u001b[0;34m(\u001b[0m\u001b[0;34m)\u001b[0m\u001b[0;34m\u001b[0m\u001b[0;34m\u001b[0m\u001b[0m\n\u001b[0m\u001b[1;32m      7\u001b[0m \u001b[0;34m\u001b[0m\u001b[0m\n\u001b[1;32m      8\u001b[0m \u001b[0;31m# Generate a word cloud image\u001b[0m\u001b[0;34m\u001b[0m\u001b[0;34m\u001b[0m\u001b[0;34m\u001b[0m\u001b[0m\n",
            "\u001b[0;31mFileNotFoundError\u001b[0m: [Errno 2] No such file or directory: 'c:/test-wordcloud/cnn.txt'"
          ]
        }
      ],
      "source": [
        "from wordcloud import WordCloud, STOPWORDS\n",
        "import matplotlib.pyplot as plt\n",
        "\n",
        "# Read the whole text.\n",
        "txtfile = \"c:/test-wordcloud/cnn.txt\" # 剛才下載存的文字檔\n",
        "text = open(txtfile,\"r\",encoding=\"utf-8\").read()\n",
        "\n",
        "# Generate a word cloud image\n",
        "wordcloud = WordCloud().generate(text)\n",
        "\n",
        "# 繪圖\n",
        "plt.figure()\n",
        "plt.imshow(wordcloud, interpolation=\"bilinear\")\n",
        "plt.axis(\"off\")\n",
        "plt.show()"
      ]
    },
    {
      "cell_type": "code",
      "execution_count": null,
      "metadata": {
        "collapsed": true,
        "id": "EXCy6Ov9V-Mn"
      },
      "outputs": [],
      "source": [
        ""
      ]
    }
  ],
  "metadata": {
    "colab": {
      "collapsed_sections": [],
      "name": "1_JeiBa斷詞斷字.ipynb",
      "provenance": [],
      "toc_visible": true,
      "include_colab_link": true
    },
    "kernelspec": {
      "display_name": "Python 3",
      "language": "python",
      "name": "python3"
    },
    "language_info": {
      "codemirror_mode": {
        "name": "ipython",
        "version": 3
      },
      "file_extension": ".py",
      "mimetype": "text/x-python",
      "name": "python",
      "nbconvert_exporter": "python",
      "pygments_lexer": "ipython3",
      "version": "3.6.3"
    }
  },
  "nbformat": 4,
  "nbformat_minor": 0
}